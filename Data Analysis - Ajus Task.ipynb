{
 "cells": [
  {
   "cell_type": "markdown",
   "metadata": {},
   "source": [
    "## Task : TODO\n",
    "1. Analyse the data(10th pass out students details) given in excel. Create webpage or portal , which is the best area to open the training institute like Akash , FITJEE etc.\n",
    "2. What is the probability from the list of students , who has the best chance to clear the iit examination of medical or engineering.\n",
    "\n"
   ]
  },
  {
   "cell_type": "code",
   "execution_count": 1,
   "metadata": {},
   "outputs": [
    {
     "data": {
      "text/html": [
       "<div>\n",
       "<style scoped>\n",
       "    .dataframe tbody tr th:only-of-type {\n",
       "        vertical-align: middle;\n",
       "    }\n",
       "\n",
       "    .dataframe tbody tr th {\n",
       "        vertical-align: top;\n",
       "    }\n",
       "\n",
       "    .dataframe thead th {\n",
       "        text-align: right;\n",
       "    }\n",
       "</style>\n",
       "<table border=\"1\" class=\"dataframe\">\n",
       "  <thead>\n",
       "    <tr style=\"text-align: right;\">\n",
       "      <th></th>\n",
       "      <th>CandidateName</th>\n",
       "      <th>Fathersname</th>\n",
       "      <th>SEX</th>\n",
       "      <th>CATEGORY</th>\n",
       "      <th>DOB</th>\n",
       "      <th>YearsPass10+2</th>\n",
       "      <th>PERCNTGE_MARKS</th>\n",
       "      <th>NameOfBoardUniversity</th>\n",
       "      <th>StudyInEng10+2</th>\n",
       "      <th>StudyInLocalLang</th>\n",
       "      <th>...</th>\n",
       "      <th>VenueName</th>\n",
       "      <th>CTYTWN</th>\n",
       "      <th>Pincodes</th>\n",
       "      <th>STATE</th>\n",
       "      <th>ADDRESS1</th>\n",
       "      <th>ADDRS2</th>\n",
       "      <th>ADDRS3</th>\n",
       "      <th>Unnamed: 29</th>\n",
       "      <th>Unnamed: 30</th>\n",
       "      <th>Unnamed: 31</th>\n",
       "    </tr>\n",
       "  </thead>\n",
       "  <tbody>\n",
       "    <tr>\n",
       "      <th>0</th>\n",
       "      <td>LALIT KUMAR JHA</td>\n",
       "      <td>TRILOK  JHA</td>\n",
       "      <td>MALE</td>\n",
       "      <td>GENERAL</td>\n",
       "      <td>1991-03-05</td>\n",
       "      <td>2011</td>\n",
       "      <td>53</td>\n",
       "      <td>B S E B</td>\n",
       "      <td>YES</td>\n",
       "      <td>YES</td>\n",
       "      <td>...</td>\n",
       "      <td>Joseph &amp; Mary Public School</td>\n",
       "      <td>NEW DELHI</td>\n",
       "      <td>110044</td>\n",
       "      <td>DELHI</td>\n",
       "      <td>I-641/B, HARI NAGAR EXTN PART-2</td>\n",
       "      <td>BADARPUR</td>\n",
       "      <td>NaN</td>\n",
       "      <td>NaN</td>\n",
       "      <td>NaN</td>\n",
       "      <td>NaN</td>\n",
       "    </tr>\n",
       "    <tr>\n",
       "      <th>1</th>\n",
       "      <td>NEHA</td>\n",
       "      <td>HARINDER</td>\n",
       "      <td>FEMALE</td>\n",
       "      <td>OBC</td>\n",
       "      <td>1994-07-05</td>\n",
       "      <td>2012</td>\n",
       "      <td>54</td>\n",
       "      <td>CBSE</td>\n",
       "      <td>YES</td>\n",
       "      <td>YES</td>\n",
       "      <td>...</td>\n",
       "      <td>Joseph &amp; Mary Public School</td>\n",
       "      <td>SARAN</td>\n",
       "      <td>841207</td>\n",
       "      <td>BIHAR</td>\n",
       "      <td>VILL-DHARIPUR</td>\n",
       "      <td>PO-HARAJI</td>\n",
       "      <td>PS-AWATARNAGAR</td>\n",
       "      <td>NaN</td>\n",
       "      <td>NaN</td>\n",
       "      <td>NaN</td>\n",
       "    </tr>\n",
       "    <tr>\n",
       "      <th>2</th>\n",
       "      <td>VIPIN  KUMAR</td>\n",
       "      <td>DHARAMAL</td>\n",
       "      <td>MALE</td>\n",
       "      <td>OBC</td>\n",
       "      <td>1995-08-12</td>\n",
       "      <td>2013</td>\n",
       "      <td>63</td>\n",
       "      <td>HBSE BHIWANI</td>\n",
       "      <td>YES</td>\n",
       "      <td>YES</td>\n",
       "      <td>...</td>\n",
       "      <td>Joseph &amp; Mary Public School</td>\n",
       "      <td>GURGAON</td>\n",
       "      <td>122504</td>\n",
       "      <td>HARYANA</td>\n",
       "      <td>VILL TAJNAGAR P.O. PATLI</td>\n",
       "      <td>TEHSIL- FARRUKHNAGAR</td>\n",
       "      <td>NaN</td>\n",
       "      <td>NaN</td>\n",
       "      <td>NaN</td>\n",
       "      <td>NaN</td>\n",
       "    </tr>\n",
       "    <tr>\n",
       "      <th>3</th>\n",
       "      <td>ROMI  NEGI</td>\n",
       "      <td>ARJUN SINGH NEGI</td>\n",
       "      <td>FEMALE</td>\n",
       "      <td>GENERAL</td>\n",
       "      <td>1991-12-22</td>\n",
       "      <td>2009</td>\n",
       "      <td>52.4</td>\n",
       "      <td>CBSE</td>\n",
       "      <td>YES</td>\n",
       "      <td>YES</td>\n",
       "      <td>...</td>\n",
       "      <td>Joseph &amp; Mary Public School</td>\n",
       "      <td>NEW DELHI</td>\n",
       "      <td>110022</td>\n",
       "      <td>DELHI</td>\n",
       "      <td>H.NO. 461, SECTOR-8,</td>\n",
       "      <td>R.K. PURAM, NEW DELHI</td>\n",
       "      <td>NaN</td>\n",
       "      <td>NaN</td>\n",
       "      <td>NaN</td>\n",
       "      <td>NaN</td>\n",
       "    </tr>\n",
       "    <tr>\n",
       "      <th>4</th>\n",
       "      <td>LALIT  KUMAR</td>\n",
       "      <td>RAJESH  KUMAR</td>\n",
       "      <td>MALE</td>\n",
       "      <td>GENERAL</td>\n",
       "      <td>1995-07-15</td>\n",
       "      <td>2013</td>\n",
       "      <td>78.4</td>\n",
       "      <td>HBSE</td>\n",
       "      <td>YES</td>\n",
       "      <td>YES</td>\n",
       "      <td>...</td>\n",
       "      <td>Joseph &amp; Mary Public School</td>\n",
       "      <td>SONIPAT</td>\n",
       "      <td>131408</td>\n",
       "      <td>HARYANA</td>\n",
       "      <td>VPO-SILANA</td>\n",
       "      <td>TEH-KHARKHODA</td>\n",
       "      <td>NaN</td>\n",
       "      <td>NaN</td>\n",
       "      <td>NaN</td>\n",
       "      <td>NaN</td>\n",
       "    </tr>\n",
       "  </tbody>\n",
       "</table>\n",
       "<p>5 rows × 32 columns</p>\n",
       "</div>"
      ],
      "text/plain": [
       "     CandidateName       Fathersname     SEX CATEGORY        DOB  \\\n",
       "0  LALIT KUMAR JHA       TRILOK  JHA    MALE  GENERAL 1991-03-05   \n",
       "1           NEHA          HARINDER    FEMALE      OBC 1994-07-05   \n",
       "2     VIPIN  KUMAR        DHARAMAL      MALE      OBC 1995-08-12   \n",
       "3       ROMI  NEGI  ARJUN SINGH NEGI  FEMALE  GENERAL 1991-12-22   \n",
       "4     LALIT  KUMAR     RAJESH  KUMAR    MALE  GENERAL 1995-07-15   \n",
       "\n",
       "   YearsPass10+2 PERCNTGE_MARKS NameOfBoardUniversity StudyInEng10+2  \\\n",
       "0           2011             53               B S E B            YES   \n",
       "1           2012             54                  CBSE            YES   \n",
       "2           2013             63          HBSE BHIWANI            YES   \n",
       "3           2009           52.4                  CBSE            YES   \n",
       "4           2013           78.4                  HBSE            YES   \n",
       "\n",
       "  StudyInLocalLang  ...                    VenueName     CTYTWN Pincodes  \\\n",
       "0              YES  ...  Joseph & Mary Public School  NEW DELHI   110044   \n",
       "1              YES  ...  Joseph & Mary Public School      SARAN   841207   \n",
       "2              YES  ...  Joseph & Mary Public School    GURGAON   122504   \n",
       "3              YES  ...  Joseph & Mary Public School  NEW DELHI   110022   \n",
       "4              YES  ...  Joseph & Mary Public School    SONIPAT   131408   \n",
       "\n",
       "     STATE                         ADDRESS1                 ADDRS2  \\\n",
       "0    DELHI  I-641/B, HARI NAGAR EXTN PART-2               BADARPUR   \n",
       "1    BIHAR                    VILL-DHARIPUR              PO-HARAJI   \n",
       "2  HARYANA         VILL TAJNAGAR P.O. PATLI   TEHSIL- FARRUKHNAGAR   \n",
       "3    DELHI             H.NO. 461, SECTOR-8,  R.K. PURAM, NEW DELHI   \n",
       "4  HARYANA                       VPO-SILANA          TEH-KHARKHODA   \n",
       "\n",
       "           ADDRS3 Unnamed: 29 Unnamed: 30 Unnamed: 31  \n",
       "0             NaN         NaN         NaN         NaN  \n",
       "1  PS-AWATARNAGAR         NaN         NaN         NaN  \n",
       "2             NaN         NaN         NaN         NaN  \n",
       "3             NaN         NaN         NaN         NaN  \n",
       "4             NaN         NaN         NaN         NaN  \n",
       "\n",
       "[5 rows x 32 columns]"
      ]
     },
     "execution_count": 1,
     "metadata": {},
     "output_type": "execute_result"
    }
   ],
   "source": [
    "import pandas as pd\n",
    "import matplotlib.pyplot as plt\n",
    "import seaborn as sns\n",
    "%matplotlib inline\n",
    "\n",
    "# data = pd.read_excel('C:/Users/dell/Desktop/Jupyter Notebook/Ajus Task/North India  Students Details.xlsx')\n",
    "df_student_details = pd.read_excel('North India  Students Details.xlsx')\n",
    "df_student_details.head()"
   ]
  },
  {
   "cell_type": "code",
   "execution_count": 2,
   "metadata": {},
   "outputs": [
    {
     "name": "stdout",
     "output_type": "stream",
     "text": [
      "<class 'pandas.core.frame.DataFrame'>\n",
      "RangeIndex: 72422 entries, 0 to 72421\n",
      "Data columns (total 32 columns):\n",
      " #   Column                 Non-Null Count  Dtype         \n",
      "---  ------                 --------------  -----         \n",
      " 0   CandidateName          72422 non-null  object        \n",
      " 1   Fathersname            72422 non-null  object        \n",
      " 2   SEX                    72422 non-null  object        \n",
      " 3   CATEGORY               72422 non-null  object        \n",
      " 4   DOB                    72422 non-null  datetime64[ns]\n",
      " 5   YearsPass10+2          72422 non-null  int64         \n",
      " 6   PERCNTGE_MARKS         72422 non-null  object        \n",
      " 7   NameOfBoardUniversity  72422 non-null  object        \n",
      " 8   StudyInEng10+2         72422 non-null  object        \n",
      " 9   StudyInLocalLang       72422 non-null  object        \n",
      " 10  NatioanaltyIndian      72422 non-null  object        \n",
      " 11  MOBNO                  72422 non-null  int64         \n",
      " 12  EMAILID                72422 non-null  object        \n",
      " 13  POST                   72422 non-null  object        \n",
      " 14  Post2                  66819 non-null  object        \n",
      " 15  Post3                  63759 non-null  object        \n",
      " 16  Post4                  60330 non-null  object        \n",
      " 17  Post5                  57539 non-null  object        \n",
      " 18  Post6                  54489 non-null  object        \n",
      " 19  PRFDIV1                72422 non-null  object        \n",
      " 20  ExamCity1              72422 non-null  object        \n",
      " 21  FinalDeclaration       72422 non-null  object        \n",
      " 22  VenueName              72422 non-null  object        \n",
      " 23  CTYTWN                 72421 non-null  object        \n",
      " 24  Pincodes               72422 non-null  int64         \n",
      " 25  STATE                  72422 non-null  object        \n",
      " 26  ADDRESS1               72421 non-null  object        \n",
      " 27  ADDRS2                 72422 non-null  object        \n",
      " 28  ADDRS3                 56623 non-null  object        \n",
      " 29  Unnamed: 29            1 non-null      object        \n",
      " 30  Unnamed: 30            0 non-null      float64       \n",
      " 31  Unnamed: 31            1 non-null      float64       \n",
      "dtypes: datetime64[ns](1), float64(2), int64(3), object(26)\n",
      "memory usage: 17.7+ MB\n"
     ]
    }
   ],
   "source": [
    "df_student_details.info()"
   ]
  },
  {
   "cell_type": "code",
   "execution_count": 3,
   "metadata": {},
   "outputs": [
    {
     "data": {
      "text/plain": [
       "Index(['CandidateName', 'Fathersname', 'SEX', 'CATEGORY', 'DOB',\n",
       "       'YearsPass10+2', 'PERCNTGE_MARKS', 'NameOfBoardUniversity',\n",
       "       'StudyInEng10+2', 'StudyInLocalLang', 'NatioanaltyIndian', 'MOBNO',\n",
       "       'EMAILID', 'POST', 'Post2', 'Post3', 'Post4', 'Post5', 'Post6',\n",
       "       'PRFDIV1', 'ExamCity1', 'FinalDeclaration', 'VenueName', 'CTYTWN',\n",
       "       'Pincodes', 'STATE', 'ADDRESS1', 'ADDRS2', 'ADDRS3', 'Unnamed: 29',\n",
       "       'Unnamed: 30', 'Unnamed: 31'],\n",
       "      dtype='object')"
      ]
     },
     "execution_count": 3,
     "metadata": {},
     "output_type": "execute_result"
    }
   ],
   "source": [
    "df_student_details.columns"
   ]
  },
  {
   "cell_type": "code",
   "execution_count": 4,
   "metadata": {},
   "outputs": [
    {
     "data": {
      "text/html": [
       "<div>\n",
       "<style scoped>\n",
       "    .dataframe tbody tr th:only-of-type {\n",
       "        vertical-align: middle;\n",
       "    }\n",
       "\n",
       "    .dataframe tbody tr th {\n",
       "        vertical-align: top;\n",
       "    }\n",
       "\n",
       "    .dataframe thead th {\n",
       "        text-align: right;\n",
       "    }\n",
       "</style>\n",
       "<table border=\"1\" class=\"dataframe\">\n",
       "  <thead>\n",
       "    <tr style=\"text-align: right;\">\n",
       "      <th></th>\n",
       "      <th>CandidateName</th>\n",
       "      <th>Fathersname</th>\n",
       "      <th>SEX</th>\n",
       "      <th>CATEGORY</th>\n",
       "      <th>DOB</th>\n",
       "      <th>YearsPass10+2</th>\n",
       "      <th>PERCNTGE_MARKS</th>\n",
       "      <th>NameOfBoardUniversity</th>\n",
       "      <th>StudyInEng10+2</th>\n",
       "      <th>StudyInLocalLang</th>\n",
       "      <th>...</th>\n",
       "      <th>VenueName</th>\n",
       "      <th>CTYTWN</th>\n",
       "      <th>Pincodes</th>\n",
       "      <th>STATE</th>\n",
       "      <th>ADDRESS1</th>\n",
       "      <th>ADDRS2</th>\n",
       "      <th>ADDRS3</th>\n",
       "      <th>Unnamed: 29</th>\n",
       "      <th>Unnamed: 30</th>\n",
       "      <th>Unnamed: 31</th>\n",
       "    </tr>\n",
       "  </thead>\n",
       "  <tbody>\n",
       "    <tr>\n",
       "      <th>0</th>\n",
       "      <td>LALIT KUMAR JHA</td>\n",
       "      <td>TRILOK  JHA</td>\n",
       "      <td>MALE</td>\n",
       "      <td>GENERAL</td>\n",
       "      <td>1991-03-05</td>\n",
       "      <td>2011</td>\n",
       "      <td>53</td>\n",
       "      <td>B S E B</td>\n",
       "      <td>YES</td>\n",
       "      <td>YES</td>\n",
       "      <td>...</td>\n",
       "      <td>Joseph &amp; Mary Public School</td>\n",
       "      <td>NEW DELHI</td>\n",
       "      <td>110044</td>\n",
       "      <td>DELHI</td>\n",
       "      <td>I-641/B, HARI NAGAR EXTN PART-2</td>\n",
       "      <td>BADARPUR</td>\n",
       "      <td>NaN</td>\n",
       "      <td>NaN</td>\n",
       "      <td>NaN</td>\n",
       "      <td>NaN</td>\n",
       "    </tr>\n",
       "    <tr>\n",
       "      <th>1</th>\n",
       "      <td>NEHA</td>\n",
       "      <td>HARINDER</td>\n",
       "      <td>FEMALE</td>\n",
       "      <td>OBC</td>\n",
       "      <td>1994-07-05</td>\n",
       "      <td>2012</td>\n",
       "      <td>54</td>\n",
       "      <td>CBSE</td>\n",
       "      <td>YES</td>\n",
       "      <td>YES</td>\n",
       "      <td>...</td>\n",
       "      <td>Joseph &amp; Mary Public School</td>\n",
       "      <td>SARAN</td>\n",
       "      <td>841207</td>\n",
       "      <td>BIHAR</td>\n",
       "      <td>VILL-DHARIPUR</td>\n",
       "      <td>PO-HARAJI</td>\n",
       "      <td>PS-AWATARNAGAR</td>\n",
       "      <td>NaN</td>\n",
       "      <td>NaN</td>\n",
       "      <td>NaN</td>\n",
       "    </tr>\n",
       "    <tr>\n",
       "      <th>2</th>\n",
       "      <td>VIPIN  KUMAR</td>\n",
       "      <td>DHARAMAL</td>\n",
       "      <td>MALE</td>\n",
       "      <td>OBC</td>\n",
       "      <td>1995-08-12</td>\n",
       "      <td>2013</td>\n",
       "      <td>63</td>\n",
       "      <td>HBSE BHIWANI</td>\n",
       "      <td>YES</td>\n",
       "      <td>YES</td>\n",
       "      <td>...</td>\n",
       "      <td>Joseph &amp; Mary Public School</td>\n",
       "      <td>GURGAON</td>\n",
       "      <td>122504</td>\n",
       "      <td>HARYANA</td>\n",
       "      <td>VILL TAJNAGAR P.O. PATLI</td>\n",
       "      <td>TEHSIL- FARRUKHNAGAR</td>\n",
       "      <td>NaN</td>\n",
       "      <td>NaN</td>\n",
       "      <td>NaN</td>\n",
       "      <td>NaN</td>\n",
       "    </tr>\n",
       "    <tr>\n",
       "      <th>3</th>\n",
       "      <td>ROMI  NEGI</td>\n",
       "      <td>ARJUN SINGH NEGI</td>\n",
       "      <td>FEMALE</td>\n",
       "      <td>GENERAL</td>\n",
       "      <td>1991-12-22</td>\n",
       "      <td>2009</td>\n",
       "      <td>52.4</td>\n",
       "      <td>CBSE</td>\n",
       "      <td>YES</td>\n",
       "      <td>YES</td>\n",
       "      <td>...</td>\n",
       "      <td>Joseph &amp; Mary Public School</td>\n",
       "      <td>NEW DELHI</td>\n",
       "      <td>110022</td>\n",
       "      <td>DELHI</td>\n",
       "      <td>H.NO. 461, SECTOR-8,</td>\n",
       "      <td>R.K. PURAM, NEW DELHI</td>\n",
       "      <td>NaN</td>\n",
       "      <td>NaN</td>\n",
       "      <td>NaN</td>\n",
       "      <td>NaN</td>\n",
       "    </tr>\n",
       "    <tr>\n",
       "      <th>4</th>\n",
       "      <td>LALIT  KUMAR</td>\n",
       "      <td>RAJESH  KUMAR</td>\n",
       "      <td>MALE</td>\n",
       "      <td>GENERAL</td>\n",
       "      <td>1995-07-15</td>\n",
       "      <td>2013</td>\n",
       "      <td>78.4</td>\n",
       "      <td>HBSE</td>\n",
       "      <td>YES</td>\n",
       "      <td>YES</td>\n",
       "      <td>...</td>\n",
       "      <td>Joseph &amp; Mary Public School</td>\n",
       "      <td>SONIPAT</td>\n",
       "      <td>131408</td>\n",
       "      <td>HARYANA</td>\n",
       "      <td>VPO-SILANA</td>\n",
       "      <td>TEH-KHARKHODA</td>\n",
       "      <td>NaN</td>\n",
       "      <td>NaN</td>\n",
       "      <td>NaN</td>\n",
       "      <td>NaN</td>\n",
       "    </tr>\n",
       "  </tbody>\n",
       "</table>\n",
       "<p>5 rows × 32 columns</p>\n",
       "</div>"
      ],
      "text/plain": [
       "     CandidateName       Fathersname     SEX CATEGORY        DOB  \\\n",
       "0  LALIT KUMAR JHA       TRILOK  JHA    MALE  GENERAL 1991-03-05   \n",
       "1           NEHA          HARINDER    FEMALE      OBC 1994-07-05   \n",
       "2     VIPIN  KUMAR        DHARAMAL      MALE      OBC 1995-08-12   \n",
       "3       ROMI  NEGI  ARJUN SINGH NEGI  FEMALE  GENERAL 1991-12-22   \n",
       "4     LALIT  KUMAR     RAJESH  KUMAR    MALE  GENERAL 1995-07-15   \n",
       "\n",
       "   YearsPass10+2 PERCNTGE_MARKS NameOfBoardUniversity StudyInEng10+2  \\\n",
       "0           2011             53               B S E B            YES   \n",
       "1           2012             54                  CBSE            YES   \n",
       "2           2013             63          HBSE BHIWANI            YES   \n",
       "3           2009           52.4                  CBSE            YES   \n",
       "4           2013           78.4                  HBSE            YES   \n",
       "\n",
       "  StudyInLocalLang  ...                    VenueName     CTYTWN Pincodes  \\\n",
       "0              YES  ...  Joseph & Mary Public School  NEW DELHI   110044   \n",
       "1              YES  ...  Joseph & Mary Public School      SARAN   841207   \n",
       "2              YES  ...  Joseph & Mary Public School    GURGAON   122504   \n",
       "3              YES  ...  Joseph & Mary Public School  NEW DELHI   110022   \n",
       "4              YES  ...  Joseph & Mary Public School    SONIPAT   131408   \n",
       "\n",
       "     STATE                         ADDRESS1                 ADDRS2  \\\n",
       "0    DELHI  I-641/B, HARI NAGAR EXTN PART-2               BADARPUR   \n",
       "1    BIHAR                    VILL-DHARIPUR              PO-HARAJI   \n",
       "2  HARYANA         VILL TAJNAGAR P.O. PATLI   TEHSIL- FARRUKHNAGAR   \n",
       "3    DELHI             H.NO. 461, SECTOR-8,  R.K. PURAM, NEW DELHI   \n",
       "4  HARYANA                       VPO-SILANA          TEH-KHARKHODA   \n",
       "\n",
       "           ADDRS3 Unnamed: 29 Unnamed: 30 Unnamed: 31  \n",
       "0             NaN         NaN         NaN         NaN  \n",
       "1  PS-AWATARNAGAR         NaN         NaN         NaN  \n",
       "2             NaN         NaN         NaN         NaN  \n",
       "3             NaN         NaN         NaN         NaN  \n",
       "4             NaN         NaN         NaN         NaN  \n",
       "\n",
       "[5 rows x 32 columns]"
      ]
     },
     "execution_count": 4,
     "metadata": {},
     "output_type": "execute_result"
    }
   ],
   "source": [
    "df_student_details.head()"
   ]
  },
  {
   "cell_type": "code",
   "execution_count": 5,
   "metadata": {},
   "outputs": [
    {
     "data": {
      "text/html": [
       "<div>\n",
       "<style scoped>\n",
       "    .dataframe tbody tr th:only-of-type {\n",
       "        vertical-align: middle;\n",
       "    }\n",
       "\n",
       "    .dataframe tbody tr th {\n",
       "        vertical-align: top;\n",
       "    }\n",
       "\n",
       "    .dataframe thead th {\n",
       "        text-align: right;\n",
       "    }\n",
       "</style>\n",
       "<table border=\"1\" class=\"dataframe\">\n",
       "  <thead>\n",
       "    <tr style=\"text-align: right;\">\n",
       "      <th></th>\n",
       "      <th>CandidateName</th>\n",
       "      <th>Fathersname</th>\n",
       "      <th>SEX</th>\n",
       "      <th>CATEGORY</th>\n",
       "      <th>DOB</th>\n",
       "      <th>YearsPass10+2</th>\n",
       "      <th>PERCNTGE_MARKS</th>\n",
       "      <th>NameOfBoardUniversity</th>\n",
       "      <th>StudyInEng10+2</th>\n",
       "      <th>StudyInLocalLang</th>\n",
       "      <th>...</th>\n",
       "      <th>VenueName</th>\n",
       "      <th>CTYTWN</th>\n",
       "      <th>Pincodes</th>\n",
       "      <th>STATE</th>\n",
       "      <th>ADDRESS1</th>\n",
       "      <th>ADDRS2</th>\n",
       "      <th>ADDRS3</th>\n",
       "      <th>Unnamed: 29</th>\n",
       "      <th>Unnamed: 30</th>\n",
       "      <th>Unnamed: 31</th>\n",
       "    </tr>\n",
       "  </thead>\n",
       "  <tbody>\n",
       "    <tr>\n",
       "      <th>72412</th>\n",
       "      <td>MANOJ  KUMAR</td>\n",
       "      <td>CHANDRA PAL SINGH</td>\n",
       "      <td>MALE</td>\n",
       "      <td>SC</td>\n",
       "      <td>1984-07-02</td>\n",
       "      <td>2002</td>\n",
       "      <td>60.8</td>\n",
       "      <td>UP BOARD</td>\n",
       "      <td>YES</td>\n",
       "      <td>YES</td>\n",
       "      <td>...</td>\n",
       "      <td>ST. LAWRENCE CONVENT</td>\n",
       "      <td>MUZAFFARNAGAR</td>\n",
       "      <td>251314</td>\n",
       "      <td>UTTAR PARDESH</td>\n",
       "      <td>VILL BASAYACH</td>\n",
       "      <td>POST JANSATH</td>\n",
       "      <td>KHATAULI</td>\n",
       "      <td>NaN</td>\n",
       "      <td>NaN</td>\n",
       "      <td>NaN</td>\n",
       "    </tr>\n",
       "    <tr>\n",
       "      <th>72413</th>\n",
       "      <td>MUKESH KUMAR MEENA</td>\n",
       "      <td>BHIM SINGH MEENA</td>\n",
       "      <td>MALE</td>\n",
       "      <td>ST</td>\n",
       "      <td>1983-04-09</td>\n",
       "      <td>2000</td>\n",
       "      <td>41.38</td>\n",
       "      <td>BSER</td>\n",
       "      <td>YES</td>\n",
       "      <td>YES</td>\n",
       "      <td>...</td>\n",
       "      <td>ST. LAWRENCE CONVENT</td>\n",
       "      <td>ALWAR</td>\n",
       "      <td>301021</td>\n",
       "      <td>RAJASTHAN</td>\n",
       "      <td>VILL/PO-ENTERA</td>\n",
       "      <td>TEH-LAXMANGARH</td>\n",
       "      <td>NaN</td>\n",
       "      <td>NaN</td>\n",
       "      <td>NaN</td>\n",
       "      <td>NaN</td>\n",
       "    </tr>\n",
       "    <tr>\n",
       "      <th>72414</th>\n",
       "      <td>NEHA  KUMARI</td>\n",
       "      <td>LALAN PRASAD GUPTA</td>\n",
       "      <td>FEMALE</td>\n",
       "      <td>OBC</td>\n",
       "      <td>1993-01-04</td>\n",
       "      <td>2012</td>\n",
       "      <td>46.4</td>\n",
       "      <td>J A C RANCHI JHARKHAND</td>\n",
       "      <td>YES</td>\n",
       "      <td>YES</td>\n",
       "      <td>...</td>\n",
       "      <td>ST. LAWRENCE CONVENT</td>\n",
       "      <td>SAHIBGANJ</td>\n",
       "      <td>816109</td>\n",
       "      <td>JHARKHAND</td>\n",
       "      <td>D/O LALAN PRASAD GUPTA</td>\n",
       "      <td>BENGALI TOLA TILAKDHARI PATH KUYA</td>\n",
       "      <td>POST-SAHIBGANJ</td>\n",
       "      <td>NaN</td>\n",
       "      <td>NaN</td>\n",
       "      <td>NaN</td>\n",
       "    </tr>\n",
       "    <tr>\n",
       "      <th>72415</th>\n",
       "      <td>KUMARI  NEHA</td>\n",
       "      <td>ANIL KUMAR GUPTA</td>\n",
       "      <td>FEMALE</td>\n",
       "      <td>OBC</td>\n",
       "      <td>1993-11-02</td>\n",
       "      <td>2013</td>\n",
       "      <td>45</td>\n",
       "      <td>JAC RANCHI JHARKHAND</td>\n",
       "      <td>YES</td>\n",
       "      <td>YES</td>\n",
       "      <td>...</td>\n",
       "      <td>ST. LAWRENCE CONVENT</td>\n",
       "      <td>SAHIBGANJ</td>\n",
       "      <td>816109</td>\n",
       "      <td>JHARKHAND</td>\n",
       "      <td>D/O ANIL KUMAR GUPTA</td>\n",
       "      <td>AT-BENGALI TOLA TILAKDHARI PATH KUYA</td>\n",
       "      <td>POST-SAHIBGANJ</td>\n",
       "      <td>NaN</td>\n",
       "      <td>NaN</td>\n",
       "      <td>NaN</td>\n",
       "    </tr>\n",
       "    <tr>\n",
       "      <th>72416</th>\n",
       "      <td>BHAJAN LAL MEENA</td>\n",
       "      <td>BADRI PRASAD MEENA</td>\n",
       "      <td>MALE</td>\n",
       "      <td>ST</td>\n",
       "      <td>1992-11-11</td>\n",
       "      <td>2009</td>\n",
       "      <td>56.46</td>\n",
       "      <td>BSER</td>\n",
       "      <td>YES</td>\n",
       "      <td>YES</td>\n",
       "      <td>...</td>\n",
       "      <td>ST. LAWRENCE CONVENT</td>\n",
       "      <td>ALWAR</td>\n",
       "      <td>321633</td>\n",
       "      <td>RAJASTHAN</td>\n",
       "      <td>VILL-GARHBAS</td>\n",
       "      <td>PO-KHOHARA</td>\n",
       "      <td>TEH-LAXMANGARH</td>\n",
       "      <td>NaN</td>\n",
       "      <td>NaN</td>\n",
       "      <td>NaN</td>\n",
       "    </tr>\n",
       "    <tr>\n",
       "      <th>72417</th>\n",
       "      <td>SHIV  PRASAD</td>\n",
       "      <td>GORKH NATH PRASAD</td>\n",
       "      <td>MALE</td>\n",
       "      <td>OBC</td>\n",
       "      <td>1994-01-10</td>\n",
       "      <td>2013</td>\n",
       "      <td>46</td>\n",
       "      <td>CBSE</td>\n",
       "      <td>YES</td>\n",
       "      <td>YES</td>\n",
       "      <td>...</td>\n",
       "      <td>ST. LAWRENCE CONVENT</td>\n",
       "      <td>DELHI</td>\n",
       "      <td>110086</td>\n",
       "      <td>SIKKIM</td>\n",
       "      <td>D-4,T-HUT NO-1</td>\n",
       "      <td>SULTAN PURI</td>\n",
       "      <td>DELHI</td>\n",
       "      <td>NaN</td>\n",
       "      <td>NaN</td>\n",
       "      <td>NaN</td>\n",
       "    </tr>\n",
       "    <tr>\n",
       "      <th>72418</th>\n",
       "      <td>KAPIL KUMAR</td>\n",
       "      <td>ISHWAR  SINGH</td>\n",
       "      <td>MALE</td>\n",
       "      <td>GENERAL</td>\n",
       "      <td>1993-01-01</td>\n",
       "      <td>2009</td>\n",
       "      <td>43</td>\n",
       "      <td>UP BOARD</td>\n",
       "      <td>YES</td>\n",
       "      <td>YES</td>\n",
       "      <td>...</td>\n",
       "      <td>ST. LAWRENCE CONVENT</td>\n",
       "      <td>BAGHPAT</td>\n",
       "      <td>250601</td>\n",
       "      <td>UTTAR PARDESH</td>\n",
       "      <td>VPO- MITLI</td>\n",
       "      <td>BAGHPAT</td>\n",
       "      <td>BAGHPATB</td>\n",
       "      <td>NaN</td>\n",
       "      <td>NaN</td>\n",
       "      <td>NaN</td>\n",
       "    </tr>\n",
       "    <tr>\n",
       "      <th>72419</th>\n",
       "      <td>SANTOSH  RAJBHAR</td>\n",
       "      <td>PATIRAM  RAJBHAR</td>\n",
       "      <td>MALE</td>\n",
       "      <td>OBC</td>\n",
       "      <td>1990-08-20</td>\n",
       "      <td>2007</td>\n",
       "      <td>68</td>\n",
       "      <td>UP BOARD</td>\n",
       "      <td>YES</td>\n",
       "      <td>YES</td>\n",
       "      <td>...</td>\n",
       "      <td>ST. LAWRENCE CONVENT</td>\n",
       "      <td>NANDGANJ</td>\n",
       "      <td>233305</td>\n",
       "      <td>UTTAR PARDESH</td>\n",
       "      <td>VILL TANIYANW</td>\n",
       "      <td>POST SAMMANPUR</td>\n",
       "      <td>DIST GHAZIPUR</td>\n",
       "      <td>NaN</td>\n",
       "      <td>NaN</td>\n",
       "      <td>NaN</td>\n",
       "    </tr>\n",
       "    <tr>\n",
       "      <th>72420</th>\n",
       "      <td>SUNNY</td>\n",
       "      <td>JITENDER</td>\n",
       "      <td>MALE</td>\n",
       "      <td>GENERAL</td>\n",
       "      <td>1994-08-05</td>\n",
       "      <td>2012</td>\n",
       "      <td>59.3</td>\n",
       "      <td>CBSE</td>\n",
       "      <td>YES</td>\n",
       "      <td>YES</td>\n",
       "      <td>...</td>\n",
       "      <td>ST. LAWRENCE CONVENT</td>\n",
       "      <td>NEW DELHI</td>\n",
       "      <td>110071</td>\n",
       "      <td>DELHI</td>\n",
       "      <td>VILLAGE TAJPUR KHURD</td>\n",
       "      <td>POST OFFICE CHHAWLA</td>\n",
       "      <td>NEW DELHI</td>\n",
       "      <td>NaN</td>\n",
       "      <td>NaN</td>\n",
       "      <td>NaN</td>\n",
       "    </tr>\n",
       "    <tr>\n",
       "      <th>72421</th>\n",
       "      <td>RIMJHIM KUMARI</td>\n",
       "      <td>BRAJ KISHOR SINGH</td>\n",
       "      <td>FEMALE</td>\n",
       "      <td>GENERAL</td>\n",
       "      <td>1990-06-25</td>\n",
       "      <td>2007</td>\n",
       "      <td>57.7</td>\n",
       "      <td>BSEB</td>\n",
       "      <td>YES</td>\n",
       "      <td>YES</td>\n",
       "      <td>...</td>\n",
       "      <td>ST. LAWRENCE CONVENT</td>\n",
       "      <td>MAHNAR</td>\n",
       "      <td>844506</td>\n",
       "      <td>BIHAR</td>\n",
       "      <td>D/F BRAJ KISOR SINGH</td>\n",
       "      <td>NAYA TOLA</td>\n",
       "      <td>HASANPUR</td>\n",
       "      <td>NaN</td>\n",
       "      <td>NaN</td>\n",
       "      <td>NaN</td>\n",
       "    </tr>\n",
       "  </tbody>\n",
       "</table>\n",
       "<p>10 rows × 32 columns</p>\n",
       "</div>"
      ],
      "text/plain": [
       "            CandidateName         Fathersname     SEX CATEGORY        DOB  \\\n",
       "72412        MANOJ  KUMAR   CHANDRA PAL SINGH    MALE       SC 1984-07-02   \n",
       "72413  MUKESH KUMAR MEENA    BHIM SINGH MEENA    MALE       ST 1983-04-09   \n",
       "72414        NEHA  KUMARI  LALAN PRASAD GUPTA  FEMALE      OBC 1993-01-04   \n",
       "72415        KUMARI  NEHA    ANIL KUMAR GUPTA  FEMALE      OBC 1993-11-02   \n",
       "72416    BHAJAN LAL MEENA  BADRI PRASAD MEENA    MALE       ST 1992-11-11   \n",
       "72417        SHIV  PRASAD   GORKH NATH PRASAD    MALE      OBC 1994-01-10   \n",
       "72418        KAPIL KUMAR        ISHWAR  SINGH    MALE  GENERAL 1993-01-01   \n",
       "72419    SANTOSH  RAJBHAR    PATIRAM  RAJBHAR    MALE      OBC 1990-08-20   \n",
       "72420             SUNNY            JITENDER      MALE  GENERAL 1994-08-05   \n",
       "72421     RIMJHIM KUMARI    BRAJ KISHOR SINGH  FEMALE  GENERAL 1990-06-25   \n",
       "\n",
       "       YearsPass10+2 PERCNTGE_MARKS   NameOfBoardUniversity StudyInEng10+2  \\\n",
       "72412           2002           60.8                UP BOARD            YES   \n",
       "72413           2000          41.38                    BSER            YES   \n",
       "72414           2012           46.4  J A C RANCHI JHARKHAND            YES   \n",
       "72415           2013             45    JAC RANCHI JHARKHAND            YES   \n",
       "72416           2009          56.46                    BSER            YES   \n",
       "72417           2013             46                    CBSE            YES   \n",
       "72418           2009             43                UP BOARD            YES   \n",
       "72419           2007             68                UP BOARD            YES   \n",
       "72420           2012           59.3                    CBSE            YES   \n",
       "72421           2007           57.7                    BSEB            YES   \n",
       "\n",
       "      StudyInLocalLang  ...             VenueName         CTYTWN Pincodes  \\\n",
       "72412              YES  ...  ST. LAWRENCE CONVENT  MUZAFFARNAGAR   251314   \n",
       "72413              YES  ...  ST. LAWRENCE CONVENT          ALWAR   301021   \n",
       "72414              YES  ...  ST. LAWRENCE CONVENT      SAHIBGANJ   816109   \n",
       "72415              YES  ...  ST. LAWRENCE CONVENT      SAHIBGANJ   816109   \n",
       "72416              YES  ...  ST. LAWRENCE CONVENT          ALWAR   321633   \n",
       "72417              YES  ...  ST. LAWRENCE CONVENT          DELHI   110086   \n",
       "72418              YES  ...  ST. LAWRENCE CONVENT        BAGHPAT   250601   \n",
       "72419              YES  ...  ST. LAWRENCE CONVENT       NANDGANJ   233305   \n",
       "72420              YES  ...  ST. LAWRENCE CONVENT      NEW DELHI   110071   \n",
       "72421              YES  ...  ST. LAWRENCE CONVENT         MAHNAR   844506   \n",
       "\n",
       "                STATE                ADDRESS1  \\\n",
       "72412   UTTAR PARDESH           VILL BASAYACH   \n",
       "72413       RAJASTHAN          VILL/PO-ENTERA   \n",
       "72414       JHARKHAND  D/O LALAN PRASAD GUPTA   \n",
       "72415       JHARKHAND    D/O ANIL KUMAR GUPTA   \n",
       "72416       RAJASTHAN            VILL-GARHBAS   \n",
       "72417          SIKKIM          D-4,T-HUT NO-1   \n",
       "72418   UTTAR PARDESH              VPO- MITLI   \n",
       "72419   UTTAR PARDESH           VILL TANIYANW   \n",
       "72420           DELHI    VILLAGE TAJPUR KHURD   \n",
       "72421           BIHAR    D/F BRAJ KISOR SINGH   \n",
       "\n",
       "                                     ADDRS2          ADDRS3 Unnamed: 29  \\\n",
       "72412                          POST JANSATH        KHATAULI         NaN   \n",
       "72413                        TEH-LAXMANGARH             NaN         NaN   \n",
       "72414     BENGALI TOLA TILAKDHARI PATH KUYA  POST-SAHIBGANJ         NaN   \n",
       "72415  AT-BENGALI TOLA TILAKDHARI PATH KUYA  POST-SAHIBGANJ         NaN   \n",
       "72416                            PO-KHOHARA  TEH-LAXMANGARH         NaN   \n",
       "72417                          SULTAN PURI            DELHI         NaN   \n",
       "72418                               BAGHPAT        BAGHPATB         NaN   \n",
       "72419                        POST SAMMANPUR   DIST GHAZIPUR         NaN   \n",
       "72420                   POST OFFICE CHHAWLA       NEW DELHI         NaN   \n",
       "72421                             NAYA TOLA        HASANPUR         NaN   \n",
       "\n",
       "      Unnamed: 30 Unnamed: 31  \n",
       "72412         NaN         NaN  \n",
       "72413         NaN         NaN  \n",
       "72414         NaN         NaN  \n",
       "72415         NaN         NaN  \n",
       "72416         NaN         NaN  \n",
       "72417         NaN         NaN  \n",
       "72418         NaN         NaN  \n",
       "72419         NaN         NaN  \n",
       "72420         NaN         NaN  \n",
       "72421         NaN         NaN  \n",
       "\n",
       "[10 rows x 32 columns]"
      ]
     },
     "execution_count": 5,
     "metadata": {},
     "output_type": "execute_result"
    }
   ],
   "source": [
    "df_student_details.tail(10)"
   ]
  },
  {
   "cell_type": "code",
   "execution_count": 6,
   "metadata": {},
   "outputs": [
    {
     "data": {
      "text/html": [
       "<div>\n",
       "<style scoped>\n",
       "    .dataframe tbody tr th:only-of-type {\n",
       "        vertical-align: middle;\n",
       "    }\n",
       "\n",
       "    .dataframe tbody tr th {\n",
       "        vertical-align: top;\n",
       "    }\n",
       "\n",
       "    .dataframe thead th {\n",
       "        text-align: right;\n",
       "    }\n",
       "</style>\n",
       "<table border=\"1\" class=\"dataframe\">\n",
       "  <thead>\n",
       "    <tr style=\"text-align: right;\">\n",
       "      <th></th>\n",
       "      <th>YearsPass10+2</th>\n",
       "      <th>MOBNO</th>\n",
       "      <th>Pincodes</th>\n",
       "      <th>Unnamed: 30</th>\n",
       "      <th>Unnamed: 31</th>\n",
       "    </tr>\n",
       "  </thead>\n",
       "  <tbody>\n",
       "    <tr>\n",
       "      <th>count</th>\n",
       "      <td>72422.00000</td>\n",
       "      <td>7.242200e+04</td>\n",
       "      <td>72422.000000</td>\n",
       "      <td>0.0</td>\n",
       "      <td>1.0</td>\n",
       "    </tr>\n",
       "    <tr>\n",
       "      <th>mean</th>\n",
       "      <td>2008.66999</td>\n",
       "      <td>9.276342e+09</td>\n",
       "      <td>179227.757077</td>\n",
       "      <td>NaN</td>\n",
       "      <td>5.0</td>\n",
       "    </tr>\n",
       "    <tr>\n",
       "      <th>std</th>\n",
       "      <td>3.00196</td>\n",
       "      <td>7.173815e+08</td>\n",
       "      <td>179624.085656</td>\n",
       "      <td>NaN</td>\n",
       "      <td>NaN</td>\n",
       "    </tr>\n",
       "    <tr>\n",
       "      <th>min</th>\n",
       "      <td>1979.00000</td>\n",
       "      <td>1.165717e+08</td>\n",
       "      <td>0.000000</td>\n",
       "      <td>NaN</td>\n",
       "      <td>5.0</td>\n",
       "    </tr>\n",
       "    <tr>\n",
       "      <th>25%</th>\n",
       "      <td>2007.00000</td>\n",
       "      <td>8.813035e+09</td>\n",
       "      <td>110043.000000</td>\n",
       "      <td>NaN</td>\n",
       "      <td>5.0</td>\n",
       "    </tr>\n",
       "    <tr>\n",
       "      <th>50%</th>\n",
       "      <td>2009.00000</td>\n",
       "      <td>9.560751e+09</td>\n",
       "      <td>110086.000000</td>\n",
       "      <td>NaN</td>\n",
       "      <td>5.0</td>\n",
       "    </tr>\n",
       "    <tr>\n",
       "      <th>75%</th>\n",
       "      <td>2011.00000</td>\n",
       "      <td>9.871257e+09</td>\n",
       "      <td>131001.000000</td>\n",
       "      <td>NaN</td>\n",
       "      <td>5.0</td>\n",
       "    </tr>\n",
       "    <tr>\n",
       "      <th>max</th>\n",
       "      <td>2013.00000</td>\n",
       "      <td>9.999998e+09</td>\n",
       "      <td>930508.000000</td>\n",
       "      <td>NaN</td>\n",
       "      <td>5.0</td>\n",
       "    </tr>\n",
       "  </tbody>\n",
       "</table>\n",
       "</div>"
      ],
      "text/plain": [
       "       YearsPass10+2         MOBNO       Pincodes  Unnamed: 30  Unnamed: 31\n",
       "count    72422.00000  7.242200e+04   72422.000000          0.0          1.0\n",
       "mean      2008.66999  9.276342e+09  179227.757077          NaN          5.0\n",
       "std          3.00196  7.173815e+08  179624.085656          NaN          NaN\n",
       "min       1979.00000  1.165717e+08       0.000000          NaN          5.0\n",
       "25%       2007.00000  8.813035e+09  110043.000000          NaN          5.0\n",
       "50%       2009.00000  9.560751e+09  110086.000000          NaN          5.0\n",
       "75%       2011.00000  9.871257e+09  131001.000000          NaN          5.0\n",
       "max       2013.00000  9.999998e+09  930508.000000          NaN          5.0"
      ]
     },
     "execution_count": 6,
     "metadata": {},
     "output_type": "execute_result"
    }
   ],
   "source": [
    "df_student_details.describe()"
   ]
  },
  {
   "cell_type": "code",
   "execution_count": 7,
   "metadata": {},
   "outputs": [
    {
     "data": {
      "text/plain": [
       "MALE      47614\n",
       "FEMALE    24808\n",
       "Name: SEX, dtype: int64"
      ]
     },
     "execution_count": 7,
     "metadata": {},
     "output_type": "execute_result"
    }
   ],
   "source": [
    "df_student_details.SEX.value_counts()"
   ]
  },
  {
   "cell_type": "code",
   "execution_count": 8,
   "metadata": {},
   "outputs": [
    {
     "data": {
      "text/plain": [
       "(0, 32)"
      ]
     },
     "execution_count": 8,
     "metadata": {},
     "output_type": "execute_result"
    }
   ],
   "source": [
    "# droping rows having 'na' values will drop all students a\n",
    "\n",
    "std_data = df_student_details.dropna(axis = 0)\n",
    "std_data.shape"
   ]
  },
  {
   "cell_type": "code",
   "execution_count": 9,
   "metadata": {},
   "outputs": [
    {
     "data": {
      "text/plain": [
       "<matplotlib.axes._subplots.AxesSubplot at 0x15594426040>"
      ]
     },
     "execution_count": 9,
     "metadata": {},
     "output_type": "execute_result"
    },
    {
     "data": {
      "image/png": "[encoded data removed]",
      "text/plain": [
       "<Figure size 720x576 with 1 Axes>"
      ]
     },
     "metadata": {
      "needs_background": "light"
     },
     "output_type": "display_data"
    }
   ],
   "source": [
    "x = df_student_details['YearsPass10+2'].value_counts().nlargest(15)\n",
    "\n",
    "x.plot(kind='bar', figsize=(10, 8), legend=True)"
   ]
  },
  {
   "cell_type": "code",
   "execution_count": 10,
   "metadata": {},
   "outputs": [
    {
     "data": {
      "text/plain": [
       "Index(['CandidateName', 'Fathersname', 'SEX', 'CATEGORY', 'DOB',\n",
       "       'YearsPass10+2', 'PERCNTGE_MARKS', 'NameOfBoardUniversity',\n",
       "       'StudyInEng10+2', 'StudyInLocalLang', 'NatioanaltyIndian', 'MOBNO',\n",
       "       'EMAILID', 'POST', 'Post2', 'Post3', 'Post4', 'Post5', 'Post6',\n",
       "       'PRFDIV1', 'ExamCity1', 'FinalDeclaration', 'VenueName', 'CTYTWN',\n",
       "       'Pincodes', 'STATE', 'ADDRESS1', 'ADDRS2', 'ADDRS3', 'Unnamed: 29',\n",
       "       'Unnamed: 30', 'Unnamed: 31'],\n",
       "      dtype='object')"
      ]
     },
     "execution_count": 10,
     "metadata": {},
     "output_type": "execute_result"
    }
   ],
   "source": [
    "df_student_details.columns"
   ]
  },
  {
   "cell_type": "code",
   "execution_count": 11,
   "metadata": {},
   "outputs": [
    {
     "data": {
      "text/plain": [
       "0        NaN\n",
       "1        NaN\n",
       "2        NaN\n",
       "3        NaN\n",
       "4        NaN\n",
       "        ... \n",
       "72417    NaN\n",
       "72418    NaN\n",
       "72419    NaN\n",
       "72420    NaN\n",
       "72421    NaN\n",
       "Name: Unnamed: 29, Length: 72422, dtype: object"
      ]
     },
     "execution_count": 11,
     "metadata": {},
     "output_type": "execute_result"
    }
   ],
   "source": [
    "df_student_details['Unnamed: 29']"
   ]
  },
  {
   "cell_type": "code",
   "execution_count": 12,
   "metadata": {},
   "outputs": [
    {
     "data": {
      "text/plain": [
       "SECTOR-3 MADANGIR    1\n",
       "Name: Unnamed: 29, dtype: int64"
      ]
     },
     "execution_count": 12,
     "metadata": {},
     "output_type": "execute_result"
    }
   ],
   "source": [
    "df_student_details['Unnamed: 29'].value_counts()"
   ]
  },
  {
   "cell_type": "code",
   "execution_count": 13,
   "metadata": {},
   "outputs": [
    {
     "data": {
      "text/plain": [
       "0       NaN\n",
       "1       NaN\n",
       "2       NaN\n",
       "3       NaN\n",
       "4       NaN\n",
       "         ..\n",
       "72417   NaN\n",
       "72418   NaN\n",
       "72419   NaN\n",
       "72420   NaN\n",
       "72421   NaN\n",
       "Name: Unnamed: 30, Length: 72422, dtype: float64"
      ]
     },
     "execution_count": 13,
     "metadata": {},
     "output_type": "execute_result"
    }
   ],
   "source": [
    "df_student_details['Unnamed: 30']"
   ]
  },
  {
   "cell_type": "code",
   "execution_count": 14,
   "metadata": {},
   "outputs": [
    {
     "data": {
      "text/plain": [
       "0       NaN\n",
       "1       NaN\n",
       "2       NaN\n",
       "3       NaN\n",
       "4       NaN\n",
       "         ..\n",
       "72417   NaN\n",
       "72418   NaN\n",
       "72419   NaN\n",
       "72420   NaN\n",
       "72421   NaN\n",
       "Name: Unnamed: 31, Length: 72422, dtype: float64"
      ]
     },
     "execution_count": 14,
     "metadata": {},
     "output_type": "execute_result"
    }
   ],
   "source": [
    "df_student_details['Unnamed: 31']"
   ]
  },
  {
   "cell_type": "code",
   "execution_count": 15,
   "metadata": {},
   "outputs": [
    {
     "data": {
      "text/plain": [
       "5.0    1\n",
       "Name: Unnamed: 31, dtype: int64"
      ]
     },
     "execution_count": 15,
     "metadata": {},
     "output_type": "execute_result"
    }
   ],
   "source": [
    "df_student_details['Unnamed: 31'].value_counts()"
   ]
  },
  {
   "cell_type": "code",
   "execution_count": null,
   "metadata": {},
   "outputs": [],
   "source": []
  },
  {
   "cell_type": "code",
   "execution_count": 16,
   "metadata": {},
   "outputs": [
    {
     "name": "stdout",
     "output_type": "stream",
     "text": [
      "Number of Duplicated rows: Empty DataFrame\n",
      "Columns: [CandidateName, Fathersname, SEX, CATEGORY, DOB, YearsPass10+2, PERCNTGE_MARKS, NameOfBoardUniversity, StudyInEng10+2, StudyInLocalLang, NatioanaltyIndian, MOBNO, EMAILID, POST, Post2, Post3, Post4, Post5, Post6, PRFDIV1, ExamCity1, FinalDeclaration, VenueName, CTYTWN, Pincodes, STATE, ADDRESS1, ADDRS2, ADDRS3, Unnamed: 29, Unnamed: 30, Unnamed: 31]\n",
      "Index: []\n",
      "\n",
      "[0 rows x 32 columns]\n"
     ]
    }
   ],
   "source": [
    "# Checking if any duplicated rows or not\n",
    "\n",
    "duplicated_row_df = df_student_details[df_student_details.duplicated()]\n",
    "\n",
    "print(\"Number of Duplicated rows:\", duplicated_row_df)"
   ]
  },
  {
   "cell_type": "code",
   "execution_count": 17,
   "metadata": {},
   "outputs": [
    {
     "name": "stdout",
     "output_type": "stream",
     "text": [
      "CandidateName                0\n",
      "Fathersname                  0\n",
      "SEX                          0\n",
      "CATEGORY                     0\n",
      "DOB                          0\n",
      "YearsPass10+2                0\n",
      "PERCNTGE_MARKS               0\n",
      "NameOfBoardUniversity        0\n",
      "StudyInEng10+2               0\n",
      "StudyInLocalLang             0\n",
      "NatioanaltyIndian            0\n",
      "MOBNO                        0\n",
      "EMAILID                      0\n",
      "POST                         0\n",
      "Post2                     5603\n",
      "Post3                     8663\n",
      "Post4                    12092\n",
      "Post5                    14883\n",
      "Post6                    17933\n",
      "PRFDIV1                      0\n",
      "ExamCity1                    0\n",
      "FinalDeclaration             0\n",
      "VenueName                    0\n",
      "CTYTWN                       1\n",
      "Pincodes                     0\n",
      "STATE                        0\n",
      "ADDRESS1                     1\n",
      "ADDRS2                       0\n",
      "ADDRS3                   15799\n",
      "Unnamed: 29              72421\n",
      "Unnamed: 30              72422\n",
      "Unnamed: 31              72421\n",
      "dtype: int64\n"
     ]
    }
   ],
   "source": [
    "# Find the null value in attributes of dataset\n",
    "\n",
    "print(df_student_details.isnull().sum())"
   ]
  },
  {
   "cell_type": "markdown",
   "metadata": {},
   "source": [
    "### Post columns\n",
    "1. What does it represent in the students data?\n",
    "2. Is it the post at which students are working in after their schooling?\n",
    "3. Is Village  Post office address?\n"
   ]
  },
  {
   "cell_type": "code",
   "execution_count": 18,
   "metadata": {},
   "outputs": [
    {
     "name": "stdout",
     "output_type": "stream",
     "text": [
      "      POST    Post2    Post3    Post4    Post5  Post6\n",
      "0     PAPO    SARMS    PAFPO      NaN      NaN    NaN\n",
      "1     PAPO    SARMS   PASBCO  PACO-RO    PAFPO  PAMMS\n",
      "2     PAPO    SARMS   PASBCO  PACO-RO    PAFPO    NaN\n",
      "3     PAPO    SARMS  PACO-RO   PASBCO      NaN    NaN\n",
      "4     PAPO    SARMS   PASBCO  PACO-RO    PAFPO  PAMMS\n",
      "5     PAPO    SARMS   PASBCO  PACO-RO    PAFPO  PAMMS\n",
      "6     PAPO    SARMS    PAFPO  PACO-RO    PAMMS    NaN\n",
      "7     PAPO    SARMS   PASBCO  PACO-RO    PAMMS  PAFPO\n",
      "8     PAPO    SARMS   PASBCO  PACO-RO    PAFPO    NaN\n",
      "9     PAPO    SARMS      NaN      NaN      NaN    NaN\n",
      "10    PAPO    SARMS   PASBCO  PACO-RO    PAFPO  PAMMS\n",
      "11  PASBCO    SARMS     PAPO  PACO-RO    PAFPO  PAMMS\n",
      "12    PAPO    SARMS    PAFPO   PASBCO  PACO-RO  PAMMS\n",
      "13    PAPO  PACO-RO    SARMS    PAFPO   PASBCO  PAMMS\n",
      "14    PAPO    SARMS   PASBCO      NaN      NaN    NaN\n",
      "15    PAPO    SARMS   PASBCO  PACO-RO    PAFPO  PAMMS\n",
      "16    PAPO      NaN      NaN      NaN      NaN    NaN\n",
      "17    PAPO    SARMS   PASBCO  PACO-RO    PAFPO  PAMMS\n",
      "18    PAPO    SARMS   PASBCO  PACO-RO    PAFPO  PAMMS\n",
      "19    PAPO    SARMS   PASBCO  PACO-RO    PAFPO  PAMMS\n"
     ]
    }
   ],
   "source": [
    "# insight about POST, Post1, Post2...\n",
    "\n",
    "post_columns = ['POST', 'Post2', 'Post3', 'Post4', 'Post5', 'Post6']\n",
    "print(df_student_details[post_columns].head(20))"
   ]
  },
  {
   "cell_type": "code",
   "execution_count": 19,
   "metadata": {},
   "outputs": [
    {
     "data": {
      "text/html": [
       "<div>\n",
       "<style scoped>\n",
       "    .dataframe tbody tr th:only-of-type {\n",
       "        vertical-align: middle;\n",
       "    }\n",
       "\n",
       "    .dataframe tbody tr th {\n",
       "        vertical-align: top;\n",
       "    }\n",
       "\n",
       "    .dataframe thead th {\n",
       "        text-align: right;\n",
       "    }\n",
       "</style>\n",
       "<table border=\"1\" class=\"dataframe\">\n",
       "  <thead>\n",
       "    <tr style=\"text-align: right;\">\n",
       "      <th></th>\n",
       "      <th>POST</th>\n",
       "      <th>Post2</th>\n",
       "      <th>Post3</th>\n",
       "      <th>Post4</th>\n",
       "      <th>Post5</th>\n",
       "      <th>Post6</th>\n",
       "    </tr>\n",
       "  </thead>\n",
       "  <tbody>\n",
       "    <tr>\n",
       "      <th>count</th>\n",
       "      <td>72422</td>\n",
       "      <td>66819</td>\n",
       "      <td>63759</td>\n",
       "      <td>60330</td>\n",
       "      <td>57539</td>\n",
       "      <td>54489</td>\n",
       "    </tr>\n",
       "    <tr>\n",
       "      <th>unique</th>\n",
       "      <td>6</td>\n",
       "      <td>6</td>\n",
       "      <td>6</td>\n",
       "      <td>6</td>\n",
       "      <td>6</td>\n",
       "      <td>6</td>\n",
       "    </tr>\n",
       "    <tr>\n",
       "      <th>top</th>\n",
       "      <td>PAPO</td>\n",
       "      <td>SARMS</td>\n",
       "      <td>PASBCO</td>\n",
       "      <td>PACO-RO</td>\n",
       "      <td>PAFPO</td>\n",
       "      <td>PAMMS</td>\n",
       "    </tr>\n",
       "    <tr>\n",
       "      <th>freq</th>\n",
       "      <td>59900</td>\n",
       "      <td>44357</td>\n",
       "      <td>35063</td>\n",
       "      <td>33086</td>\n",
       "      <td>38629</td>\n",
       "      <td>43154</td>\n",
       "    </tr>\n",
       "  </tbody>\n",
       "</table>\n",
       "</div>"
      ],
      "text/plain": [
       "         POST  Post2   Post3    Post4  Post5  Post6\n",
       "count   72422  66819   63759    60330  57539  54489\n",
       "unique      6      6       6        6      6      6\n",
       "top      PAPO  SARMS  PASBCO  PACO-RO  PAFPO  PAMMS\n",
       "freq    59900  44357   35063    33086  38629  43154"
      ]
     },
     "execution_count": 19,
     "metadata": {},
     "output_type": "execute_result"
    }
   ],
   "source": [
    "df_student_details[post_columns].describe()"
   ]
  },
  {
   "cell_type": "markdown",
   "metadata": {},
   "source": [
    "## Address columns\n",
    "    checking address columns for some insight about attributs"
   ]
  },
  {
   "cell_type": "code",
   "execution_count": 20,
   "metadata": {},
   "outputs": [
    {
     "data": {
      "text/html": [
       "<div>\n",
       "<style scoped>\n",
       "    .dataframe tbody tr th:only-of-type {\n",
       "        vertical-align: middle;\n",
       "    }\n",
       "\n",
       "    .dataframe tbody tr th {\n",
       "        vertical-align: top;\n",
       "    }\n",
       "\n",
       "    .dataframe thead th {\n",
       "        text-align: right;\n",
       "    }\n",
       "</style>\n",
       "<table border=\"1\" class=\"dataframe\">\n",
       "  <thead>\n",
       "    <tr style=\"text-align: right;\">\n",
       "      <th></th>\n",
       "      <th>ADDRESS1</th>\n",
       "      <th>ADDRS2</th>\n",
       "      <th>ADDRS3</th>\n",
       "    </tr>\n",
       "  </thead>\n",
       "  <tbody>\n",
       "    <tr>\n",
       "      <th>0</th>\n",
       "      <td>I-641/B, HARI NAGAR EXTN PART-2</td>\n",
       "      <td>BADARPUR</td>\n",
       "      <td>NaN</td>\n",
       "    </tr>\n",
       "    <tr>\n",
       "      <th>1</th>\n",
       "      <td>VILL-DHARIPUR</td>\n",
       "      <td>PO-HARAJI</td>\n",
       "      <td>PS-AWATARNAGAR</td>\n",
       "    </tr>\n",
       "    <tr>\n",
       "      <th>2</th>\n",
       "      <td>VILL TAJNAGAR P.O. PATLI</td>\n",
       "      <td>TEHSIL- FARRUKHNAGAR</td>\n",
       "      <td>NaN</td>\n",
       "    </tr>\n",
       "    <tr>\n",
       "      <th>3</th>\n",
       "      <td>H.NO. 461, SECTOR-8,</td>\n",
       "      <td>R.K. PURAM, NEW DELHI</td>\n",
       "      <td>NaN</td>\n",
       "    </tr>\n",
       "    <tr>\n",
       "      <th>4</th>\n",
       "      <td>VPO-SILANA</td>\n",
       "      <td>TEH-KHARKHODA</td>\n",
       "      <td>NaN</td>\n",
       "    </tr>\n",
       "    <tr>\n",
       "      <th>5</th>\n",
       "      <td>H. NO. 835 G. NO. 26</td>\n",
       "      <td>B BLOCK SANT NAGAR</td>\n",
       "      <td>BURARI DELHI</td>\n",
       "    </tr>\n",
       "    <tr>\n",
       "      <th>6</th>\n",
       "      <td>V.P.O KANSALA</td>\n",
       "      <td>TEH ROHTAK</td>\n",
       "      <td>NaN</td>\n",
       "    </tr>\n",
       "    <tr>\n",
       "      <th>7</th>\n",
       "      <td>E- 92</td>\n",
       "      <td>YADAV NAGAR</td>\n",
       "      <td>SAMEYPUR</td>\n",
       "    </tr>\n",
       "    <tr>\n",
       "      <th>8</th>\n",
       "      <td>AGGARWAL MANDI TATIRI</td>\n",
       "      <td>POST-AGGARWAL MANDI TATIRI</td>\n",
       "      <td>BAGHPAT UP</td>\n",
       "    </tr>\n",
       "    <tr>\n",
       "      <th>9</th>\n",
       "      <td>VILL - CHERAN</td>\n",
       "      <td>PO - HARNAUT</td>\n",
       "      <td>PS - HARNAUT</td>\n",
       "    </tr>\n",
       "  </tbody>\n",
       "</table>\n",
       "</div>"
      ],
      "text/plain": [
       "                          ADDRESS1                      ADDRS2          ADDRS3\n",
       "0  I-641/B, HARI NAGAR EXTN PART-2                    BADARPUR             NaN\n",
       "1                    VILL-DHARIPUR                   PO-HARAJI  PS-AWATARNAGAR\n",
       "2         VILL TAJNAGAR P.O. PATLI        TEHSIL- FARRUKHNAGAR             NaN\n",
       "3             H.NO. 461, SECTOR-8,       R.K. PURAM, NEW DELHI             NaN\n",
       "4                       VPO-SILANA               TEH-KHARKHODA             NaN\n",
       "5             H. NO. 835 G. NO. 26          B BLOCK SANT NAGAR    BURARI DELHI\n",
       "6                    V.P.O KANSALA                  TEH ROHTAK             NaN\n",
       "7                            E- 92                 YADAV NAGAR        SAMEYPUR\n",
       "8            AGGARWAL MANDI TATIRI  POST-AGGARWAL MANDI TATIRI      BAGHPAT UP\n",
       "9                    VILL - CHERAN                PO - HARNAUT    PS - HARNAUT"
      ]
     },
     "execution_count": 20,
     "metadata": {},
     "output_type": "execute_result"
    }
   ],
   "source": [
    "addrs_col = ['ADDRESS1', 'ADDRS2', 'ADDRS3']\n",
    "df_student_details[addrs_col].head(10)"
   ]
  },
  {
   "cell_type": "code",
   "execution_count": 21,
   "metadata": {},
   "outputs": [
    {
     "data": {
      "text/html": [
       "<div>\n",
       "<style scoped>\n",
       "    .dataframe tbody tr th:only-of-type {\n",
       "        vertical-align: middle;\n",
       "    }\n",
       "\n",
       "    .dataframe tbody tr th {\n",
       "        vertical-align: top;\n",
       "    }\n",
       "\n",
       "    .dataframe thead th {\n",
       "        text-align: right;\n",
       "    }\n",
       "</style>\n",
       "<table border=\"1\" class=\"dataframe\">\n",
       "  <thead>\n",
       "    <tr style=\"text-align: right;\">\n",
       "      <th></th>\n",
       "      <th>ADDRESS1</th>\n",
       "      <th>ADDRS2</th>\n",
       "      <th>ADDRS3</th>\n",
       "    </tr>\n",
       "  </thead>\n",
       "  <tbody>\n",
       "    <tr>\n",
       "      <th>count</th>\n",
       "      <td>72421</td>\n",
       "      <td>72422</td>\n",
       "      <td>56623</td>\n",
       "    </tr>\n",
       "    <tr>\n",
       "      <th>unique</th>\n",
       "      <td>58224</td>\n",
       "      <td>36780</td>\n",
       "      <td>19156</td>\n",
       "    </tr>\n",
       "    <tr>\n",
       "      <th>top</th>\n",
       "      <td>VPO. THANA KALAN</td>\n",
       "      <td>SONIPAT</td>\n",
       "      <td>NEW DELHI</td>\n",
       "    </tr>\n",
       "    <tr>\n",
       "      <th>freq</th>\n",
       "      <td>65</td>\n",
       "      <td>414</td>\n",
       "      <td>2416</td>\n",
       "    </tr>\n",
       "  </tbody>\n",
       "</table>\n",
       "</div>"
      ],
      "text/plain": [
       "                ADDRESS1   ADDRS2     ADDRS3\n",
       "count              72421    72422      56623\n",
       "unique             58224    36780      19156\n",
       "top     VPO. THANA KALAN  SONIPAT  NEW DELHI\n",
       "freq                  65      414       2416"
      ]
     },
     "execution_count": 21,
     "metadata": {},
     "output_type": "execute_result"
    }
   ],
   "source": [
    "\n",
    "df_student_details[addrs_col].describe()"
   ]
  },
  {
   "cell_type": "code",
   "execution_count": 22,
   "metadata": {},
   "outputs": [
    {
     "name": "stdout",
     "output_type": "stream",
     "text": [
      "-> (58225,)\n",
      "-> (36780,)\n",
      "-> (19157,)\n"
     ]
    }
   ],
   "source": [
    "# \n",
    "for addrs in addrs_col:\n",
    "    print(\"->\", df_student_details[addrs].unique().shape)\n",
    "    "
   ]
  },
  {
   "cell_type": "markdown",
   "metadata": {},
   "source": [
    "### Pincodes"
   ]
  },
  {
   "cell_type": "code",
   "execution_count": 23,
   "metadata": {},
   "outputs": [
    {
     "data": {
      "text/plain": [
       "Index(['CandidateName', 'Fathersname', 'SEX', 'CATEGORY', 'DOB',\n",
       "       'YearsPass10+2', 'PERCNTGE_MARKS', 'NameOfBoardUniversity',\n",
       "       'StudyInEng10+2', 'StudyInLocalLang', 'NatioanaltyIndian', 'MOBNO',\n",
       "       'EMAILID', 'POST', 'Post2', 'Post3', 'Post4', 'Post5', 'Post6',\n",
       "       'PRFDIV1', 'ExamCity1', 'FinalDeclaration', 'VenueName', 'CTYTWN',\n",
       "       'Pincodes', 'STATE', 'ADDRESS1', 'ADDRS2', 'ADDRS3', 'Unnamed: 29',\n",
       "       'Unnamed: 30', 'Unnamed: 31'],\n",
       "      dtype='object')"
      ]
     },
     "execution_count": 23,
     "metadata": {},
     "output_type": "execute_result"
    }
   ],
   "source": [
    "df_student_details.columns"
   ]
  },
  {
   "cell_type": "code",
   "execution_count": 24,
   "metadata": {},
   "outputs": [
    {
     "data": {
      "text/plain": [
       "110094    3473\n",
       "131001    2319\n",
       "110059    2221\n",
       "110043    2126\n",
       "110093    1629\n",
       "          ... \n",
       "126109       1\n",
       "626001       1\n",
       "841210       1\n",
       "280104       1\n",
       "0            1\n",
       "Name: Pincodes, Length: 2807, dtype: int64"
      ]
     },
     "execution_count": 24,
     "metadata": {},
     "output_type": "execute_result"
    }
   ],
   "source": [
    "df_student_details['Pincodes'].value_counts()"
   ]
  },
  {
   "cell_type": "code",
   "execution_count": 25,
   "metadata": {},
   "outputs": [
    {
     "data": {
      "image/png": "[encoded data removed]",
      "text/plain": [
       "<Figure size 720x360 with 1 Axes>"
      ]
     },
     "metadata": {
      "needs_background": "light"
     },
     "output_type": "display_data"
    }
   ],
   "source": [
    "no_of_student = df_student_details['Pincodes'].value_counts().nlargest(30)\n",
    "no_of_student.plot(kind = 'bar', figsize = (10, 5))\n",
    "\n",
    "plt.title(\"Number of students by Pincode\")\n",
    "plt.xlabel(\"Pincodes\")\n",
    "plt.ylabel(\"No of students\")\n",
    "plt.show()\n"
   ]
  },
  {
   "cell_type": "code",
   "execution_count": 26,
   "metadata": {},
   "outputs": [
    {
     "name": "stdout",
     "output_type": "stream",
     "text": [
      "110094    3473\n",
      "131001    2319\n",
      "110059    2221\n",
      "110043    2126\n",
      "110093    1629\n",
      "110086    1619\n",
      "110040    1596\n",
      "110053    1591\n",
      "110039    1472\n",
      "110041    1358\n",
      "Name: Pincodes, dtype: int64\n"
     ]
    }
   ],
   "source": [
    "top_state = []\n",
    "s = df_student_details['Pincodes'].value_counts().nlargest(10)\n",
    "print(s)"
   ]
  },
  {
   "cell_type": "code",
   "execution_count": 27,
   "metadata": {},
   "outputs": [
    {
     "data": {
      "image/png": "[encoded data removed]",
      "text/plain": [
       "<Figure size 720x576 with 3 Axes>"
      ]
     },
     "metadata": {
      "needs_background": "light"
     },
     "output_type": "display_data"
    }
   ],
   "source": [
    "plt.figure(1)\n",
    "data = df_student_details\n",
    "\n",
    "# plot for states frequency diagram\n",
    "plt.subplot(221)\n",
    "data['STATE'].value_counts().nlargest(10).plot(kind='bar', color='red', figsize=(10, 8))\n",
    "plt.title(\"No of students by state\")\n",
    "plt.xlabel(\"States\")\n",
    "plt.ylabel(\"No of students\")\n",
    "\n",
    "#  plot for pincode frequency diagram\n",
    "plt.subplot(222)\n",
    "data['Pincodes'].value_counts().nlargest(10).plot(kind='bar', color='green', figsize=(10, 8))\n",
    "plt.title(\"No of student by Pincodes\")\n",
    "plt.xlabel(\"Pincodes\")\n",
    "plt.ylabel(\"No of student\")\n",
    "\n",
    "# plot for city town frequency diagram\n",
    "plt.subplot(223)\n",
    "data['CTYTWN'].value_counts().nlargest(10).plot(kind='bar', color='cyan', figsize=(10, 8))\n",
    "plt.title(\"No of student by City-Town\")\n",
    "plt.xlabel(\"City-Town\")\n",
    "plt.ylabel(\"No of student\")\n",
    "\n",
    "plt.tight_layout()"
   ]
  },
  {
   "cell_type": "markdown",
   "metadata": {},
   "source": [
    " ## Conclusion\n",
    " 1. Most student are from Delhi, Haryana and Uttar Pradesh and Bihar\n",
    " 2. Also mainly the student are form the postal area with pincode: 110094, 131001, 110059, 110043\n",
    " 3. City (town) which have most number of students are Delhi, New Delhi and Sonipat\n",
    " \n",
    " ### Best place to open training institue can be?\n",
    "  Ans: It is Delhi.\n",
    "  \n",
    "  Explaintion: \n",
    "      For any training institute number of student enrolled is direct measure of its profit.\n",
    "      Opening an institute in region form where most of student are will be preferable.\n",
    "      Also it will be accessible for students.\n",
    " "
   ]
  },
  {
   "cell_type": "code",
   "execution_count": null,
   "metadata": {},
   "outputs": [],
   "source": []
  },
  {
   "cell_type": "code",
   "execution_count": 28,
   "metadata": {},
   "outputs": [
    {
     "name": "stdout",
     "output_type": "stream",
     "text": [
      "[10, 29, 233, 1010]\n",
      "10\n",
      "29\n",
      "233\n",
      "1010\n",
      "0        NEW DELHI\n",
      "1            SARAN\n",
      "2          GURGAON\n",
      "3        NEW DELHI\n",
      "4          SONIPAT\n",
      "           ...    \n",
      "72417        DELHI\n",
      "72418      BAGHPAT\n",
      "72419     NANDGANJ\n",
      "72420    NEW DELHI\n",
      "72421       MAHNAR\n",
      "Name: CTYTWN, Length: 72422, dtype: object "
     ]
    }
   ],
   "source": [
    "li = [10, 29, 233, 1010]\n",
    "print(li)\n",
    "for i in li:\n",
    "    print(i)\n",
    "\n",
    "li = list(data['Pincodes'])\n",
    "for i in li:\n",
    "    if i == 110094:\n",
    "        print(data['CTYTWN'], end = \" \")\n",
    "        break\n"
   ]
  },
  {
   "cell_type": "code",
   "execution_count": null,
   "metadata": {},
   "outputs": [],
   "source": []
  },
  {
   "cell_type": "code",
   "execution_count": 29,
   "metadata": {},
   "outputs": [
    {
     "data": {
      "text/plain": [
       "(72422, 32)"
      ]
     },
     "execution_count": 29,
     "metadata": {},
     "output_type": "execute_result"
    }
   ],
   "source": [
    "df_student_details.shape"
   ]
  },
  {
   "cell_type": "code",
   "execution_count": 30,
   "metadata": {},
   "outputs": [
    {
     "data": {
      "text/plain": [
       "Index(['CandidateName', 'Fathersname', 'SEX', 'CATEGORY', 'DOB',\n",
       "       'YearsPass10+2', 'PERCNTGE_MARKS', 'NameOfBoardUniversity',\n",
       "       'StudyInEng10+2', 'StudyInLocalLang', 'NatioanaltyIndian', 'MOBNO',\n",
       "       'EMAILID', 'POST', 'Post2', 'Post3', 'Post4', 'Post5', 'Post6',\n",
       "       'PRFDIV1', 'ExamCity1', 'FinalDeclaration', 'VenueName', 'CTYTWN',\n",
       "       'Pincodes', 'STATE', 'ADDRESS1', 'ADDRS2', 'ADDRS3', 'Unnamed: 29',\n",
       "       'Unnamed: 30', 'Unnamed: 31'],\n",
       "      dtype='object')"
      ]
     },
     "execution_count": 30,
     "metadata": {},
     "output_type": "execute_result"
    }
   ],
   "source": [
    "df_student_details.columns"
   ]
  },
  {
   "cell_type": "code",
   "execution_count": 31,
   "metadata": {},
   "outputs": [
    {
     "data": {
      "text/plain": [
       "count                72422\n",
       "unique                  11\n",
       "top       Delhi East(1501)\n",
       "freq                 16171\n",
       "Name: PRFDIV1, dtype: object"
      ]
     },
     "execution_count": 31,
     "metadata": {},
     "output_type": "execute_result"
    }
   ],
   "source": [
    "df_student_details['PRFDIV1'].describe()"
   ]
  },
  {
   "cell_type": "code",
   "execution_count": 32,
   "metadata": {},
   "outputs": [
    {
     "data": {
      "text/plain": [
       "array(['New Delhi South(1504)', 'New Delhi Central(1503)',\n",
       "       'Delhi East(1501)', 'New Delhi West(1506)', 'Delhi North(1502)',\n",
       "       'Delhi GPO(1508)', 'New Delhi HO(1507)',\n",
       "       'New Delhi Sorting Division New Delhi(1511)',\n",
       "       'New Delhi South West(1505)',\n",
       "       'RMS Airmail Sorting Division New Delhi(1509)',\n",
       "       'RMS Delhi Sorting Division New Delhi(1510)'], dtype=object)"
      ]
     },
     "execution_count": 32,
     "metadata": {},
     "output_type": "execute_result"
    }
   ],
   "source": [
    "df_student_details['PRFDIV1'].unique()"
   ]
  },
  {
   "cell_type": "code",
   "execution_count": 33,
   "metadata": {},
   "outputs": [
    {
     "data": {
      "text/plain": [
       "Delhi East(1501)                                16171\n",
       "Delhi North(1502)                               13679\n",
       "New Delhi South(1504)                            9841\n",
       "Delhi GPO(1508)                                  8296\n",
       "New Delhi Central(1503)                          6190\n",
       "New Delhi West(1506)                             5281\n",
       "New Delhi South West(1505)                       4554\n",
       "New Delhi HO(1507)                               4290\n",
       "New Delhi Sorting Division New Delhi(1511)       2053\n",
       "RMS Airmail Sorting Division New Delhi(1509)     1037\n",
       "RMS Delhi Sorting Division New Delhi(1510)       1030\n",
       "Name: PRFDIV1, dtype: int64"
      ]
     },
     "execution_count": 33,
     "metadata": {},
     "output_type": "execute_result"
    }
   ],
   "source": [
    "df_student_details['PRFDIV1'].value_counts()"
   ]
  },
  {
   "cell_type": "markdown",
   "metadata": {},
   "source": [
    "\n",
    "\n"
   ]
  },
  {
   "cell_type": "code",
   "execution_count": null,
   "metadata": {},
   "outputs": [],
   "source": []
  },
  {
   "cell_type": "markdown",
   "metadata": {},
   "source": [
    "### Probability from the list of students , who has the best chance to clear the iit examination of medical or engineering may depend on different factors:\n",
    "1. Percentage marks in 12th class \n",
    "2. Sex of the student ( 20% of seats are reserved of girls).\n",
    "3. From which board they studied. i.e, CBSE, HBSE, NIOS, etc because each board have their own course structures and syllabus\n",
    "4. Catogary to which student belongs.\n"
   ]
  },
  {
   "cell_type": "code",
   "execution_count": 34,
   "metadata": {},
   "outputs": [],
   "source": [
    "# choosing \"features\"\n",
    "# attributes which will affect the performance of student in exam are:\n",
    "\n",
    "student_features = ['SEX', 'CATEGORY', 'PERCNTGE_MARKS', 'NameOfBoardUniversity']\n",
    "X = df_student_details[student_features]"
   ]
  },
  {
   "cell_type": "code",
   "execution_count": 35,
   "metadata": {
    "scrolled": false
   },
   "outputs": [
    {
     "data": {
      "text/html": [
       "<div>\n",
       "<style scoped>\n",
       "    .dataframe tbody tr th:only-of-type {\n",
       "        vertical-align: middle;\n",
       "    }\n",
       "\n",
       "    .dataframe tbody tr th {\n",
       "        vertical-align: top;\n",
       "    }\n",
       "\n",
       "    .dataframe thead th {\n",
       "        text-align: right;\n",
       "    }\n",
       "</style>\n",
       "<table border=\"1\" class=\"dataframe\">\n",
       "  <thead>\n",
       "    <tr style=\"text-align: right;\">\n",
       "      <th></th>\n",
       "      <th>SEX</th>\n",
       "      <th>CATEGORY</th>\n",
       "      <th>PERCNTGE_MARKS</th>\n",
       "      <th>NameOfBoardUniversity</th>\n",
       "    </tr>\n",
       "  </thead>\n",
       "  <tbody>\n",
       "    <tr>\n",
       "      <th>0</th>\n",
       "      <td>MALE</td>\n",
       "      <td>GENERAL</td>\n",
       "      <td>53</td>\n",
       "      <td>B S E B</td>\n",
       "    </tr>\n",
       "    <tr>\n",
       "      <th>1</th>\n",
       "      <td>FEMALE</td>\n",
       "      <td>OBC</td>\n",
       "      <td>54</td>\n",
       "      <td>CBSE</td>\n",
       "    </tr>\n",
       "    <tr>\n",
       "      <th>2</th>\n",
       "      <td>MALE</td>\n",
       "      <td>OBC</td>\n",
       "      <td>63</td>\n",
       "      <td>HBSE BHIWANI</td>\n",
       "    </tr>\n",
       "    <tr>\n",
       "      <th>3</th>\n",
       "      <td>FEMALE</td>\n",
       "      <td>GENERAL</td>\n",
       "      <td>52.4</td>\n",
       "      <td>CBSE</td>\n",
       "    </tr>\n",
       "    <tr>\n",
       "      <th>4</th>\n",
       "      <td>MALE</td>\n",
       "      <td>GENERAL</td>\n",
       "      <td>78.4</td>\n",
       "      <td>HBSE</td>\n",
       "    </tr>\n",
       "    <tr>\n",
       "      <th>5</th>\n",
       "      <td>MALE</td>\n",
       "      <td>OBC</td>\n",
       "      <td>57.4</td>\n",
       "      <td>C.B.S.E.</td>\n",
       "    </tr>\n",
       "    <tr>\n",
       "      <th>6</th>\n",
       "      <td>MALE</td>\n",
       "      <td>GENERAL</td>\n",
       "      <td>42.2</td>\n",
       "      <td>NIOS</td>\n",
       "    </tr>\n",
       "    <tr>\n",
       "      <th>7</th>\n",
       "      <td>MALE</td>\n",
       "      <td>OBC</td>\n",
       "      <td>72.4</td>\n",
       "      <td>CBSE</td>\n",
       "    </tr>\n",
       "    <tr>\n",
       "      <th>8</th>\n",
       "      <td>MALE</td>\n",
       "      <td>GENERAL</td>\n",
       "      <td>70</td>\n",
       "      <td>CBSE BOARD DELHI</td>\n",
       "    </tr>\n",
       "    <tr>\n",
       "      <th>9</th>\n",
       "      <td>MALE</td>\n",
       "      <td>OBC</td>\n",
       "      <td>65.44</td>\n",
       "      <td>B I E C PATNA</td>\n",
       "    </tr>\n",
       "  </tbody>\n",
       "</table>\n",
       "</div>"
      ],
      "text/plain": [
       "      SEX CATEGORY PERCNTGE_MARKS NameOfBoardUniversity\n",
       "0    MALE  GENERAL             53               B S E B\n",
       "1  FEMALE      OBC             54                  CBSE\n",
       "2    MALE      OBC             63          HBSE BHIWANI\n",
       "3  FEMALE  GENERAL           52.4                  CBSE\n",
       "4    MALE  GENERAL           78.4                  HBSE\n",
       "5    MALE      OBC           57.4              C.B.S.E.\n",
       "6    MALE  GENERAL           42.2                  NIOS\n",
       "7    MALE      OBC           72.4                  CBSE\n",
       "8    MALE  GENERAL             70      CBSE BOARD DELHI\n",
       "9    MALE      OBC          65.44         B I E C PATNA"
      ]
     },
     "execution_count": 35,
     "metadata": {},
     "output_type": "execute_result"
    }
   ],
   "source": [
    "X.head(10)"
   ]
  },
  {
   "cell_type": "code",
   "execution_count": 36,
   "metadata": {},
   "outputs": [
    {
     "name": "stdout",
     "output_type": "stream",
     "text": [
      "<class 'pandas.core.frame.DataFrame'>\n",
      "RangeIndex: 72422 entries, 0 to 72421\n",
      "Data columns (total 4 columns):\n",
      " #   Column                 Non-Null Count  Dtype \n",
      "---  ------                 --------------  ----- \n",
      " 0   SEX                    72422 non-null  object\n",
      " 1   CATEGORY               72422 non-null  object\n",
      " 2   PERCNTGE_MARKS         72422 non-null  object\n",
      " 3   NameOfBoardUniversity  72422 non-null  object\n",
      "dtypes: object(4)\n",
      "memory usage: 2.2+ MB\n"
     ]
    }
   ],
   "source": [
    "X.info()"
   ]
  },
  {
   "cell_type": "code",
   "execution_count": 37,
   "metadata": {},
   "outputs": [
    {
     "data": {
      "text/plain": [
       "count     72422\n",
       "unique     2717\n",
       "top          60\n",
       "freq       1599\n",
       "Name: PERCNTGE_MARKS, dtype: int64"
      ]
     },
     "execution_count": 37,
     "metadata": {},
     "output_type": "execute_result"
    }
   ],
   "source": [
    "X['PERCNTGE_MARKS'].describe()"
   ]
  },
  {
   "cell_type": "code",
   "execution_count": null,
   "metadata": {},
   "outputs": [],
   "source": []
  },
  {
   "cell_type": "code",
   "execution_count": 38,
   "metadata": {},
   "outputs": [],
   "source": [
    "# below line will generate error\n",
    "# df_student_details['PERCNTGE_MARKS'] = df_student_details['PERCNTGE_MARKS'].astype(float)\n",
    "\n",
    "# this will work in converting the \"percentmarks\" columns form object to float.\n",
    "\n",
    "df_student_details['PERCNTGE_MARKS'] = pd.to_numeric(df_student_details['PERCNTGE_MARKS'], errors='coerce')\n"
   ]
  },
  {
   "cell_type": "code",
   "execution_count": null,
   "metadata": {},
   "outputs": [],
   "source": []
  },
  {
   "cell_type": "code",
   "execution_count": null,
   "metadata": {},
   "outputs": [],
   "source": []
  },
  {
   "cell_type": "code",
   "execution_count": 44,
   "metadata": {},
   "outputs": [],
   "source": [
    "# adding a new columns \"Eligible\"\n",
    "# X.insert(4, \"Eligible\", isEligible)\n",
    "\n",
    "\n",
    "isEligible = []\n",
    "\n",
    "for i in range(df_student_details.shape[0]):\n",
    "    if data.PERCNTGE_MARKS[i] < 75.00:\n",
    "        isEligible.append(\"NO\")\n",
    "    else:\n",
    "        isEligible.append(\"YES\")\n",
    "X.head()\n",
    "X.insert(4, \"Eligible\", isEligible)\n"
   ]
  },
  {
   "cell_type": "code",
   "execution_count": 45,
   "metadata": {},
   "outputs": [
    {
     "data": {
      "text/html": [
       "<div>\n",
       "<style scoped>\n",
       "    .dataframe tbody tr th:only-of-type {\n",
       "        vertical-align: middle;\n",
       "    }\n",
       "\n",
       "    .dataframe tbody tr th {\n",
       "        vertical-align: top;\n",
       "    }\n",
       "\n",
       "    .dataframe thead th {\n",
       "        text-align: right;\n",
       "    }\n",
       "</style>\n",
       "<table border=\"1\" class=\"dataframe\">\n",
       "  <thead>\n",
       "    <tr style=\"text-align: right;\">\n",
       "      <th></th>\n",
       "      <th>SEX</th>\n",
       "      <th>CATEGORY</th>\n",
       "      <th>PERCNTGE_MARKS</th>\n",
       "      <th>NameOfBoardUniversity</th>\n",
       "      <th>Eligible</th>\n",
       "    </tr>\n",
       "  </thead>\n",
       "  <tbody>\n",
       "    <tr>\n",
       "      <th>count</th>\n",
       "      <td>72422</td>\n",
       "      <td>72422</td>\n",
       "      <td>72422</td>\n",
       "      <td>72422</td>\n",
       "      <td>72422</td>\n",
       "    </tr>\n",
       "    <tr>\n",
       "      <th>unique</th>\n",
       "      <td>2</td>\n",
       "      <td>4</td>\n",
       "      <td>2717</td>\n",
       "      <td>2408</td>\n",
       "      <td>2</td>\n",
       "    </tr>\n",
       "    <tr>\n",
       "      <th>top</th>\n",
       "      <td>MALE</td>\n",
       "      <td>GENERAL</td>\n",
       "      <td>60</td>\n",
       "      <td>CBSE</td>\n",
       "      <td>NO</td>\n",
       "    </tr>\n",
       "    <tr>\n",
       "      <th>freq</th>\n",
       "      <td>47614</td>\n",
       "      <td>31561</td>\n",
       "      <td>1599</td>\n",
       "      <td>31306</td>\n",
       "      <td>66933</td>\n",
       "    </tr>\n",
       "  </tbody>\n",
       "</table>\n",
       "</div>"
      ],
      "text/plain": [
       "          SEX CATEGORY  PERCNTGE_MARKS NameOfBoardUniversity Eligible\n",
       "count   72422    72422           72422                 72422    72422\n",
       "unique      2        4            2717                  2408        2\n",
       "top      MALE  GENERAL              60                  CBSE       NO\n",
       "freq    47614    31561            1599                 31306    66933"
      ]
     },
     "execution_count": 45,
     "metadata": {},
     "output_type": "execute_result"
    }
   ],
   "source": [
    "X.describe() "
   ]
  },
  {
   "cell_type": "code",
   "execution_count": 46,
   "metadata": {},
   "outputs": [
    {
     "data": {
      "text/plain": [
       "60    1599\n",
       "50    1182\n",
       "55    1028\n",
       "62     928\n",
       "52     913\n",
       "58     865\n",
       "56     861\n",
       "65     831\n",
       "57     813\n",
       "61     796\n",
       "54     774\n",
       "53     770\n",
       "64     748\n",
       "63     725\n",
       "51     717\n",
       "59     695\n",
       "45     614\n",
       "68     612\n",
       "48     597\n",
       "70     576\n",
       "Name: PERCNTGE_MARKS, dtype: int64"
      ]
     },
     "execution_count": 46,
     "metadata": {},
     "output_type": "execute_result"
    }
   ],
   "source": [
    "X['PERCNTGE_MARKS'].value_counts().nlargest(20)\n",
    "\n"
   ]
  },
  {
   "cell_type": "code",
   "execution_count": 49,
   "metadata": {},
   "outputs": [
    {
     "data": {
      "text/plain": [
       "(array([8.7000e+01, 5.0000e+00, 3.0000e+00, 7.5500e+02, 9.9390e+03,\n",
       "        2.4247e+04, 2.3308e+04, 1.0761e+04, 2.9490e+03, 3.6700e+02]),\n",
       " array([ 0.42 , 10.098, 19.776, 29.454, 39.132, 48.81 , 58.488, 68.166,\n",
       "        77.844, 87.522, 97.2  ]),\n",
       " <a list of 10 Patch objects>)"
      ]
     },
     "execution_count": 49,
     "metadata": {},
     "output_type": "execute_result"
    },
    {
     "data": {
      "image/png": "[encoded data removed]",
      "text/plain": [
       "<Figure size 432x288 with 1 Axes>"
      ]
     },
     "metadata": {
      "needs_background": "light"
     },
     "output_type": "display_data"
    }
   ],
   "source": [
    "plt.hist(df_student_details['PERCNTGE_MARKS'], bins=10)\n"
   ]
  },
  {
   "cell_type": "code",
   "execution_count": null,
   "metadata": {},
   "outputs": [],
   "source": []
  },
  {
   "cell_type": "code",
   "execution_count": 47,
   "metadata": {
    "scrolled": false
   },
   "outputs": [
    {
     "data": {
      "image/png": "[encoded data removed]",
      "text/plain": [
       "<Figure size 504x360 with 1 Axes>"
      ]
     },
     "metadata": {
      "needs_background": "light"
     },
     "output_type": "display_data"
    }
   ],
   "source": [
    "# Those who will be eligible for IIT JEE\n",
    "X.Eligible.value_counts().plot(kind='bar', figsize=(7, 5))\n",
    "\n",
    "plt.title(\"Those student who are Eligible for IIT-JEE Exam\")\n",
    "plt.xlabel(\"Eligibility\")\n",
    "plt.ylabel(\"No of students\")\n",
    "plt.show()"
   ]
  },
  {
   "cell_type": "code",
   "execution_count": null,
   "metadata": {},
   "outputs": [],
   "source": []
  },
  {
   "cell_type": "code",
   "execution_count": 80,
   "metadata": {},
   "outputs": [],
   "source": [
    "boards = df_student_details['NameOfBoardUniversity'].value_counts()\n",
    "\n",
    "# set to stor all CBSE board name with modification.\n",
    "cbse = {}'CBSE BOARD', 'C.B.S.E', 'CBSE DELHI', 'C.B.S.E.', 'CENTRAL BOARD OF SECONDARY EDUCATION', 'C B S E', \n",
    "        'CBSE BOARD DELHI', 'CBSE NEW DELHI', 'C.B.S.E BOARD', 'CBSE, DELHI', 'C.B.S.E DELHI', 'C.B.S.E. DELHI', \n",
    "        'C.B.S.E. BOARD', 'C B S E DELHI', 'C B S E BOARD', 'CBSC BOARD', 'CBSE,DELHI', 'DELHI CBSE BOARD',\n",
    "        'CBSE, NEW DELHI', 'CENTRAL BOARD OF SECONDARY EDUCATION DELHI', 'CBSE DELHI BOARD', \n",
    "        'CENTRAL BOARD SECONDARY EDUCATION', 'CBSE BORD', 'CENTRAL BOARD OF SECONDARY EDUCATION, DELHI', \n",
    "        'C.B.S.E BOARD DELHI', 'CSBE', 'CBSE BOARD NEW DELHI', 'CBSE BORAD', 'C.B.S.C', 'CBSC DELHI', 'CBSE B0OARD',\n",
    "        'CBSE BOARD, DELHI', 'CENTRAL BOARD OF SECONDRY EDUCATION', 'CENTRAL BOARD OF SECONDARY EXAMINATION',\n",
    "        'C.B.S.E. NEW DELHI', 'CBSE BOARD OF DELHI', 'C.B.S,E', 'C. B. S. E.', 'CBSE  DELHI', 'C.B.S.E., NEW DELHI',\n",
    "        'CENTRAL BOARD OF SECONDARY EDUCAITON', 'CBSE (DELHI)', 'C.B.S.E., DELHI', \n",
    "        'CENTRAL BOARD OF SECONDARY EDUCATION (CBSE)', 'CBSE-DELHI', 'C B S E BOARD DELHI', 'CBSE,NEW DELHI',\n",
    "        'ALL INDIA CBSE'}\n",
    "\n",
    "# def board_name_fixer(board):\n",
    "   "
   ]
  },
  {
   "cell_type": "code",
   "execution_count": 108,
   "metadata": {},
   "outputs": [
    {
     "name": "stdout",
     "output_type": "stream",
     "text": [
      "U P                                       5\n",
      "BOARD OF AJMER                            5\n",
      "C B S E BOARD DELHI                       5\n",
      "AJMER BOARD RAJASTHAN                     5\n",
      "BOARD OF SECONDRY EDUCATION, RAJASTHAN    5\n",
      "CBSSE                                     5\n",
      "HARYANA OPEN SCHOOL                       5\n",
      "BOARD OF SCHOOL EDUCATION  HARYANA        5\n",
      "BSER AJMER RAJESTHAN                      5\n",
      "J.I.E.C RANCHI                            5\n",
      "DELHI CBSE                                5\n",
      "JMI                                       5\n",
      "N I O S DELHI                             5\n",
      "BOARD OF SEC. EDU. RAJASTHAN              5\n",
      "ALL INDIA CBSE                            5\n",
      "P.S.E.B                                   5\n",
      "C.B.S.E. BOARD DELHI                      5\n",
      "NATIONAL OPEN SCHOOL DELHI                5\n",
      "CBSE,NEW DELHI                            5\n",
      "GOA BOARD                                 5\n",
      "Name: NameOfBoardUniversity, dtype: int64\n"
     ]
    }
   ],
   "source": [
    "print(boards[280:300])"
   ]
  },
  {
   "cell_type": "code",
   "execution_count": null,
   "metadata": {},
   "outputs": [],
   "source": []
  },
  {
   "cell_type": "code",
   "execution_count": null,
   "metadata": {},
   "outputs": [],
   "source": []
  },
  {
   "cell_type": "code",
   "execution_count": null,
   "metadata": {},
   "outputs": [],
   "source": []
  },
  {
   "cell_type": "code",
   "execution_count": null,
   "metadata": {},
   "outputs": [],
   "source": []
  }
 ],
 "metadata": {
  "kernelspec": {
   "display_name": "Python 3",
   "language": "python",
   "name": "python3"
  },
  "language_info": {
   "codemirror_mode": {
    "name": "ipython",
    "version": 3
   },
   "file_extension": ".py",
   "mimetype": "text/x-python",
   "name": "python",
   "nbconvert_exporter": "python",
   "pygments_lexer": "ipython3",
   "version": "3.8.3"
  }
 },
 "nbformat": 4,
 "nbformat_minor": 4
}
